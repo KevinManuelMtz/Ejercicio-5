{
  "nbformat": 4,
  "nbformat_minor": 0,
  "metadata": {
    "colab": {
      "name": "Untitled2.ipynb",
      "provenance": []
    },
    "kernelspec": {
      "name": "python3",
      "display_name": "Python 3"
    }
  },
  "cells": [
    {
      "cell_type": "code",
      "metadata": {
        "id": "yql-MNjbORIz",
        "outputId": "067cffbc-12fc-4c70-f0c5-a094fd6b6df3",
        "colab": {
          "base_uri": "https://localhost:8080/"
        }
      },
      "source": [
        "def juguete(p,m):\n",
        "  tp = p*np\n",
        "  tm = m*nm\n",
        "  pt = tp + tm\n",
        "  if (pt >= 10000):\n",
        "    print(\"ERROR\")\n",
        "    pe= pt-10000\n",
        "    print(\"Peso Excedido, 10000 gramos maximos por envio, se paso por: \",pe,\"gramos\")\n",
        "    return [pe,False]\n",
        "  elif (pt <= 10000):\n",
        "    print(\"El peso total del pedido es :\",pt,\"gramos\")\n",
        "    print(\"Envio procesado - Gracias\")\n",
        "\n",
        "p = float(150)\n",
        "m = float(170)\n",
        "print(\"Peso del Payaso por unidad 150 gr\")\n",
        "print(\"Peso del Juego de mesa por unidad 170 gr\")\n",
        "\n",
        "np = float(input(\"Ingrese el numero de los payasos del pedido: \"))\n",
        "nm = float(input(\"Ingrese el numero de lo juegos de mesa del pedido: \"))\n",
        "juguete(p,m)\n"
      ],
      "execution_count": 44,
      "outputs": [
        {
          "output_type": "stream",
          "text": [
            "Peso del Payaso por unidad 150 gr\n",
            "Peso del Juego de mesa por unidad 170 gr\n",
            "Ingrese el numero de los payasos del pedido: 1000\n",
            "Ingrese el numero de lo juegos de mesa del pedido: 10\n",
            "ERROR\n",
            "Peso Excedido, 10000 gramos maximos por envio, se paso por:  141700.0 gramos\n"
          ],
          "name": "stdout"
        },
        {
          "output_type": "execute_result",
          "data": {
            "text/plain": [
              "[141700.0, False]"
            ]
          },
          "metadata": {
            "tags": []
          },
          "execution_count": 44
        }
      ]
    }
  ]
}